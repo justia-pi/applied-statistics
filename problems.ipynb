{
 "cells": [
  {
   "cell_type": "markdown",
   "id": "79b52ad2",
   "metadata": {},
   "source": [
    "# Problem 1"
   ]
  },
  {
   "cell_type": "code",
   "execution_count": 1,
   "id": "9d1df395",
   "metadata": {},
   "outputs": [],
   "source": [
    "import numpy as np\n",
    "import random as rd\n",
    "import math as mt"
   ]
  },
  {
   "cell_type": "markdown",
   "id": "8e89482c",
   "metadata": {},
   "source": [
    "## We prepare 12 cups: 8 tea-first and 4 milk-first. A participant claims they can tell which was poured first."
   ]
  },
  {
   "cell_type": "code",
   "execution_count": null,
   "id": "dce60079",
   "metadata": {},
   "outputs": [],
   "source": []
  }
 ],
 "metadata": {
  "kernelspec": {
   "display_name": "Python 3",
   "language": "python",
   "name": "python3"
  },
  "language_info": {
   "codemirror_mode": {
    "name": "ipython",
    "version": 3
   },
   "file_extension": ".py",
   "mimetype": "text/x-python",
   "name": "python",
   "nbconvert_exporter": "python",
   "pygments_lexer": "ipython3",
   "version": "3.12.1"
  }
 },
 "nbformat": 4,
 "nbformat_minor": 5
}
